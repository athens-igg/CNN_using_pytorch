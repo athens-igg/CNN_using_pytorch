{
  "nbformat": 4,
  "nbformat_minor": 0,
  "metadata": {
    "colab": {
      "provenance": [],
      "authorship_tag": "ABX9TyPsbD1Y3NPX+3zTZMqh4rjO",
      "include_colab_link": true
    },
    "kernelspec": {
      "name": "python3",
      "display_name": "Python 3"
    },
    "language_info": {
      "name": "python"
    }
  },
  "cells": [
    {
      "cell_type": "markdown",
      "metadata": {
        "id": "view-in-github",
        "colab_type": "text"
      },
      "source": [
        "<a href=\"https://colab.research.google.com/github/athens-igg/CNN_using_pytorch/blob/main/cnn1.ipynb\" target=\"_parent\"><img src=\"https://colab.research.google.com/assets/colab-badge.svg\" alt=\"Open In Colab\"/></a>"
      ]
    },
    {
      "cell_type": "code",
      "execution_count": null,
      "metadata": {
        "id": "iucfbgoKqGvE"
      },
      "outputs": [],
      "source": [
        "import torch"
      ]
    },
    {
      "cell_type": "code",
      "source": [
        "from torchvision import datasets, transforms\n",
        "from torch.utils.data import DataLoader, random_split\n",
        "\n",
        "transforms = transforms.Compose([\n",
        "                                 transforms.ToTensor()\n",
        "])"
      ],
      "metadata": {
        "id": "GzIGfSwWqQwA"
      },
      "execution_count": null,
      "outputs": []
    },
    {
      "cell_type": "code",
      "source": [
        "train = datasets.MNIST('', train = True, transform = transforms, download = True)\n",
        "train, valid = random_split(train,[50000,10000])"
      ],
      "metadata": {
        "colab": {
          "base_uri": "https://localhost:8080/"
        },
        "id": "mlou9UMVrNJt",
        "outputId": "587086e4-2141-45db-c911-020f2bf0aab6"
      },
      "execution_count": null,
      "outputs": [
        {
          "output_type": "stream",
          "name": "stderr",
          "text": [
            "100%|██████████| 9.91M/9.91M [00:00<00:00, 58.9MB/s]\n",
            "100%|██████████| 28.9k/28.9k [00:00<00:00, 1.83MB/s]\n",
            "100%|██████████| 1.65M/1.65M [00:00<00:00, 12.8MB/s]\n",
            "100%|██████████| 4.54k/4.54k [00:00<00:00, 4.14MB/s]\n"
          ]
        }
      ]
    },
    {
      "cell_type": "code",
      "source": [
        "trainloader = DataLoader(train, batch_size=32)\n",
        "validloader = DataLoader(valid, batch_size=32)"
      ],
      "metadata": {
        "id": "s5GIbsZhvdeF"
      },
      "execution_count": null,
      "outputs": []
    },
    {
      "cell_type": "code",
      "source": [
        "import torch\n",
        "from torch import nn\n",
        "import torch.nn.functional as F\n",
        "\n",
        "class Network(nn.Module):\n",
        "    def __init__(self):\n",
        "        super(Network,self).__init__()\n",
        "        self.fc1 = nn.Linear(28*28, 256)\n",
        "        self.fc2 = nn.Linear(256, 128)\n",
        "        self.fc3 = nn.Linear(128, 10)\n",
        "\n",
        "    def forward(self, x):\n",
        "        #x = x.view(1,-1)\n",
        "        x = x.view(x.size(0), -1)  # ✅ Flattens each image in the batch\n",
        "\n",
        "        x = F.relu(self.fc1(x))\n",
        "        x = F.relu(self.fc2(x))\n",
        "        x = self.fc3(x)\n",
        "        return x\n",
        "\n",
        "\n",
        "model = Network()\n",
        "\n",
        "if torch.cuda.is_available():\n",
        "    model = model.cuda()"
      ],
      "metadata": {
        "id": "voQabXEGwzHt"
      },
      "execution_count": null,
      "outputs": []
    },
    {
      "cell_type": "code",
      "source": [
        "criterion = nn.CrossEntropyLoss()\n",
        "optimizer = torch.optim.SGD(model.parameters(), lr = 0.01)"
      ],
      "metadata": {
        "id": "TSczdT3-yN7H"
      },
      "execution_count": null,
      "outputs": []
    },
    {
      "cell_type": "code",
      "source": [
        "for e in range(1):  # just 1 epoch for test\n",
        "    for i, (data, labels) in enumerate(trainloader):\n",
        "        if i > 0: break  # just run one batch\n",
        "\n",
        "        data = data.view(data.size(0), -1)\n",
        "        if torch.cuda.is_available():\n",
        "            data, labels = data.cuda(), labels.cuda()\n",
        "\n",
        "        optimizer.zero_grad()\n",
        "        output = model(data)\n",
        "        loss = criterion(output, labels)\n",
        "        loss.backward()\n",
        "        optimizer.step()\n",
        "\n",
        "        print(\"Batch loss:\", loss.item())\n"
      ],
      "metadata": {
        "colab": {
          "base_uri": "https://localhost:8080/"
        },
        "id": "SzKKjtX7-Cg9",
        "outputId": "4f2540f8-efe1-4058-87f9-78e54e8a1c3f"
      },
      "execution_count": null,
      "outputs": [
        {
          "output_type": "stream",
          "name": "stdout",
          "text": [
            "Batch loss: 0.2514864504337311\n"
          ]
        }
      ]
    },
    {
      "cell_type": "code",
      "source": [
        "import torch\n",
        "from torch import nn\n",
        "import torch.nn.functional as F\n",
        "from torchvision import datasets, transforms\n",
        "from torch.utils.data import DataLoader, random_split\n",
        "import numpy as np\n",
        "\n",
        "#Declare transform to convert raw data to tensor\n",
        "transforms = transforms.Compose([\n",
        "                                 transforms.ToTensor()\n",
        "])\n",
        "\n",
        "# Loading Data and splitting it into train and validation data\n",
        "train = datasets.MNIST('', train = True, transform = transforms, download = True)\n",
        "train, valid = random_split(train,[50000,10000])\n",
        "\n",
        "# Create Dataloader of the above tensor with batch size = 32\n",
        "trainloader = DataLoader(train, batch_size=32)\n",
        "validloader = DataLoader(valid, batch_size=32)\n",
        "\n",
        "# Building Our Mode\n",
        "class Network(nn.Module):\n",
        "    # Declaring the Architecture\n",
        "    def __init__(self):\n",
        "        super(Network,self).__init__()\n",
        "        self.fc1 = nn.Linear(28*28, 256)\n",
        "        self.fc2 = nn.Linear(256, 128)\n",
        "        self.fc3 = nn.Linear(128, 10)\n",
        "\n",
        "    # Forward Pass\n",
        "    def forward(self, x):\n",
        "        x = x.view(x.shape[0],-1)    # Flatten the images\n",
        "        x = F.relu(self.fc1(x))\n",
        "        x = F.relu(self.fc2(x))\n",
        "        x = self.fc3(x)\n",
        "        return x\n",
        "\n",
        "model = Network()\n",
        "if torch.cuda.is_available():\n",
        "    model = model.cuda()\n",
        "\n",
        "# Declaring Criterion and Optimizer\n",
        "criterion = nn.CrossEntropyLoss()\n",
        "optimizer = torch.optim.SGD(model.parameters(), lr = 0.01)\n",
        "\n",
        "# Training with Validation\n",
        "epochs = 5\n",
        "min_valid_loss = np.inf\n",
        "\n",
        "for e in range(epochs):\n",
        "    train_loss = 0.0\n",
        "    for data, labels in trainloader:\n",
        "        # Transfer Data to GPU if available\n",
        "        if torch.cuda.is_available():\n",
        "            data, labels = data.cuda(), labels.cuda()\n",
        "\n",
        "        # Clear the gradients\n",
        "        optimizer.zero_grad()\n",
        "        # Forward Pass\n",
        "        target = model(data)\n",
        "        # Find the Loss\n",
        "        loss = criterion(target,labels)\n",
        "        # Calculate gradients\n",
        "        loss.backward()\n",
        "        # Update Weights\n",
        "        optimizer.step()\n",
        "        # Calculate Loss\n",
        "        train_loss += loss.item()\n",
        "\n",
        "    valid_loss = 0.0\n",
        "    model.eval()     # Optional when not using Model Specific layer\n",
        "    for data, labels in validloader:\n",
        "        # Transfer Data to GPU if available\n",
        "        if torch.cuda.is_available():\n",
        "            data, labels = data.cuda(), labels.cuda()\n",
        "\n",
        "        # Forward Pass\n",
        "        target = model(data)\n",
        "        # Find the Loss\n",
        "        loss = criterion(target,labels)\n",
        "        # Calculate Loss\n",
        "        valid_loss += loss.item()\n",
        "\n",
        "    print(f'Epoch {e+1} \\t\\t Training Loss: {train_loss / len(trainloader)} \\t\\t Validation Loss: {valid_loss / len(validloader)}')\n",
        "\n",
        "    if min_valid_loss > valid_loss:\n",
        "        print(f'Validation Loss Decreased({min_valid_loss:.6f}--->{valid_loss:.6f}) \\t Saving The Model')\n",
        "\n",
        "\n",
        "        min_valid_loss = valid_loss\n",
        "\n",
        "        # Saving State Dict\n",
        "        torch.save(model.state_dict(), 'saved_model.pth')"
      ],
      "metadata": {
        "colab": {
          "base_uri": "https://localhost:8080/"
        },
        "id": "AHQFWD6g_ASV",
        "outputId": "af5a50ee-496b-4154-a45c-c7dfcd3083e7"
      },
      "execution_count": null,
      "outputs": [
        {
          "output_type": "stream",
          "name": "stdout",
          "text": [
            "Epoch 1 \t\t Training Loss: 1.273462201148672 \t\t Validation Loss: 0.49917781210174195\n",
            "Validation Loss Decreased(inf--->156.242655) \t Saving The Model\n",
            "Epoch 2 \t\t Training Loss: 0.40547614258142595 \t\t Validation Loss: 0.3492608222717675\n",
            "Validation Loss Decreased(156.242655--->109.318637) \t Saving The Model\n",
            "Epoch 3 \t\t Training Loss: 0.32320031716285114 \t\t Validation Loss: 0.3030498463410539\n",
            "Validation Loss Decreased(109.318637--->94.854602) \t Saving The Model\n",
            "Epoch 4 \t\t Training Loss: 0.2832070344025823 \t\t Validation Loss: 0.27098247483848764\n",
            "Validation Loss Decreased(94.854602--->84.817515) \t Saving The Model\n",
            "Epoch 5 \t\t Training Loss: 0.2523221211366103 \t\t Validation Loss: 0.24527717565004817\n",
            "Validation Loss Decreased(84.817515--->76.771756) \t Saving The Model\n"
          ]
        }
      ]
    }
  ]
}